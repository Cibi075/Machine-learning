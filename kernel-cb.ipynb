{
 "cells": [
  {
   "cell_type": "code",
   "execution_count": 1,
   "metadata": {
    "_uuid": "2ed84cd8a5726284c6acdf61892ea47a20081b6e",
    "colab": {},
    "colab_type": "code",
    "id": "K4vm9OxVpDFF"
   },
   "outputs": [
    {
     "name": "stderr",
     "output_type": "stream",
     "text": [
      "/opt/conda/lib/python3.6/site-packages/ipykernel_launcher.py:18: DataConversionWarning: A column-vector y was passed when a 1d array was expected. Please change the shape of y to (n_samples, ), for example using ravel().\n"
     ]
    }
   ],
   "source": [
    "import pandas as pd\n",
    "import numpy as np\n",
    "from sklearn.preprocessing import StandardScaler\n",
    "from sklearn.neighbors import KNeighborsClassifier\n",
    "from sklearn import preprocessing\n",
    "\n",
    "df_csv = pd.read_csv('../input/train.csv')\n",
    "Y_train = pd.read_csv('../input/test.csv')\n",
    "Y=df_csv.iloc[:,:1]\n",
    "X=df_csv.iloc[:,1:]\n",
    "\n",
    "X = preprocessing.normalize(X)\n",
    "\n",
    "x = StandardScaler().fit_transform(X)\n",
    "\n",
    "\n",
    "neigh = KNeighborsClassifier(n_neighbors=3,algorithm=\"auto\")\n",
    "model=neigh.fit(x, Y) \n",
    "\n",
    "results = model.predict(Y_train)\n",
    "\n",
    "\n",
    "results = pd.Series(results,name=\"Label\")\n",
    "submission = pd.concat([pd.Series(range(1,28001),name = \"ImageId\"),results],axis = 1)\n",
    "\n",
    "submission.to_csv(\"Knn_op.csv\",index=False)\n"
   ]
  },
  {
   "cell_type": "code",
   "execution_count": 2,
   "metadata": {
    "_uuid": "8e192c1469c90b42b066fc7d3acea076fabd458f"
   },
   "outputs": [],
   "source": []
  },
  {
   "cell_type": "code",
   "execution_count": 2,
   "metadata": {},
   "outputs": [],
   "source": []
  }
 ],
 "metadata": {
  "colab": {
   "collapsed_sections": [],
   "name": "Untitled9.ipynb",
   "provenance": [],
   "version": "0.3.2"
  },
  "kernelspec": {
   "display_name": "Python 3",
   "language": "python",
   "name": "python3"
  },
  "language_info": {
   "codemirror_mode": {
    "name": "ipython",
    "version": 3
   },
   "file_extension": ".py",
   "mimetype": "text/x-python",
   "name": "python",
   "nbconvert_exporter": "python",
   "pygments_lexer": "ipython3",
   "version": "3.6.6"
  }
 },
 "nbformat": 4,
 "nbformat_minor": 1
}
